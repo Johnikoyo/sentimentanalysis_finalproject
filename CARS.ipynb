{
 "cells": [
  {
   "cell_type": "code",
   "execution_count": 1,
   "metadata": {
    "id": "5G99bmp1TEXk"
   },
   "outputs": [],
   "source": [
    "# Import necessary libraries\n",
    "%matplotlib inline\n",
    "import os\n",
    "import pandas as pd\n",
    "import numpy as np\n",
    "import seaborn as sns\n",
    "import matplotlib.pyplot as plt\n",
    "import warnings\n",
    "warnings.filterwarnings('ignore')\n",
    "from sklearn.linear_model import LogisticRegression\n",
    "from sklearn.tree import DecisionTreeClassifier\n",
    "from sklearn.ensemble import RandomForestClassifier\n",
    "from sklearn.metrics import accuracy_score, confusion_matrix, confusion_matrix, precision_score, recall_score, f1_score\n",
    "from logging import StreamHandler\n",
    "from sklearn.model_selection import train_test_split\n",
    "from sklearn.preprocessing import StandardScaler\n",
    "from sklearn.linear_model import LinearRegression\n",
    "from sklearn.tree import DecisionTreeRegressor\n",
    "from sklearn.ensemble import RandomForestRegressor\n",
    "from sklearn.metrics import r2_score, mean_squared_error,mean_absolute_error"
   ]
  },
  {
   "cell_type": "code",
   "execution_count": 3,
   "metadata": {
    "id": "lZZHfe8_TUkE"
   },
   "outputs": [],
   "source": [
    "#cars = pd.read_csv(\"/content/cars_2010_2020.csv\")\n",
    "cars = pd.read_csv(\"cars_2010_2020.csv\")"
   ]
  },
  {
   "cell_type": "code",
   "execution_count": 4,
   "metadata": {
    "colab": {
     "base_uri": "https://localhost:8080/",
     "height": 206
    },
    "id": "VGzVTpo9TjZ6",
    "outputId": "9d2dba9e-87fd-4ef7-b601-89b4834094e9"
   },
   "outputs": [
    {
     "data": {
      "text/html": [
       "<div>\n",
       "<style scoped>\n",
       "    .dataframe tbody tr th:only-of-type {\n",
       "        vertical-align: middle;\n",
       "    }\n",
       "\n",
       "    .dataframe tbody tr th {\n",
       "        vertical-align: top;\n",
       "    }\n",
       "\n",
       "    .dataframe thead th {\n",
       "        text-align: right;\n",
       "    }\n",
       "</style>\n",
       "<table border=\"1\" class=\"dataframe\">\n",
       "  <thead>\n",
       "    <tr style=\"text-align: right;\">\n",
       "      <th></th>\n",
       "      <th>Make</th>\n",
       "      <th>Model</th>\n",
       "      <th>Year</th>\n",
       "      <th>Engine Size (L)</th>\n",
       "      <th>Fuel Type</th>\n",
       "      <th>Price (USD)</th>\n",
       "    </tr>\n",
       "  </thead>\n",
       "  <tbody>\n",
       "    <tr>\n",
       "      <th>0</th>\n",
       "      <td>Volkswagen</td>\n",
       "      <td>Jetta</td>\n",
       "      <td>2010</td>\n",
       "      <td>4.2</td>\n",
       "      <td>Petrol</td>\n",
       "      <td>54073.09</td>\n",
       "    </tr>\n",
       "    <tr>\n",
       "      <th>1</th>\n",
       "      <td>Honda</td>\n",
       "      <td>Pilot</td>\n",
       "      <td>2017</td>\n",
       "      <td>4.2</td>\n",
       "      <td>Hybrid</td>\n",
       "      <td>44924.91</td>\n",
       "    </tr>\n",
       "    <tr>\n",
       "      <th>2</th>\n",
       "      <td>Nissan</td>\n",
       "      <td>Murano</td>\n",
       "      <td>2011</td>\n",
       "      <td>4.2</td>\n",
       "      <td>Hybrid</td>\n",
       "      <td>76963.44</td>\n",
       "    </tr>\n",
       "    <tr>\n",
       "      <th>3</th>\n",
       "      <td>Toyota</td>\n",
       "      <td>RAV4</td>\n",
       "      <td>2010</td>\n",
       "      <td>2.4</td>\n",
       "      <td>Petrol</td>\n",
       "      <td>30871.25</td>\n",
       "    </tr>\n",
       "    <tr>\n",
       "      <th>4</th>\n",
       "      <td>Nissan</td>\n",
       "      <td>Altima</td>\n",
       "      <td>2010</td>\n",
       "      <td>3.6</td>\n",
       "      <td>Petrol</td>\n",
       "      <td>72037.65</td>\n",
       "    </tr>\n",
       "  </tbody>\n",
       "</table>\n",
       "</div>"
      ],
      "text/plain": [
       "         Make   Model  Year  Engine Size (L) Fuel Type  Price (USD)\n",
       "0  Volkswagen   Jetta  2010              4.2    Petrol     54073.09\n",
       "1       Honda   Pilot  2017              4.2    Hybrid     44924.91\n",
       "2      Nissan  Murano  2011              4.2    Hybrid     76963.44\n",
       "3      Toyota    RAV4  2010              2.4    Petrol     30871.25\n",
       "4      Nissan  Altima  2010              3.6    Petrol     72037.65"
      ]
     },
     "execution_count": 4,
     "metadata": {},
     "output_type": "execute_result"
    }
   ],
   "source": [
    "cars.head()"
   ]
  },
  {
   "cell_type": "code",
   "execution_count": 5,
   "metadata": {
    "colab": {
     "base_uri": "https://localhost:8080/"
    },
    "id": "0FqazLyJ2UMp",
    "outputId": "a0f1f19f-6bcd-4713-dd8c-058542144880"
   },
   "outputs": [
    {
     "name": "stdout",
     "output_type": "stream",
     "text": [
      "<class 'pandas.core.frame.DataFrame'>\n",
      "RangeIndex: 10000 entries, 0 to 9999\n",
      "Data columns (total 6 columns):\n",
      " #   Column           Non-Null Count  Dtype  \n",
      "---  ------           --------------  -----  \n",
      " 0   Make             10000 non-null  object \n",
      " 1   Model            10000 non-null  object \n",
      " 2   Year             10000 non-null  int64  \n",
      " 3   Engine Size (L)  10000 non-null  float64\n",
      " 4   Fuel Type        10000 non-null  object \n",
      " 5   Price (USD)      10000 non-null  float64\n",
      "dtypes: float64(2), int64(1), object(3)\n",
      "memory usage: 468.9+ KB\n"
     ]
    }
   ],
   "source": [
    "cars.info()"
   ]
  },
  {
   "cell_type": "code",
   "execution_count": 6,
   "metadata": {
    "colab": {
     "base_uri": "https://localhost:8080/",
     "height": 300
    },
    "id": "9HPC328_2UDK",
    "outputId": "73028f10-0a34-4d92-d147-531069d2794d"
   },
   "outputs": [
    {
     "data": {
      "text/html": [
       "<div>\n",
       "<style scoped>\n",
       "    .dataframe tbody tr th:only-of-type {\n",
       "        vertical-align: middle;\n",
       "    }\n",
       "\n",
       "    .dataframe tbody tr th {\n",
       "        vertical-align: top;\n",
       "    }\n",
       "\n",
       "    .dataframe thead th {\n",
       "        text-align: right;\n",
       "    }\n",
       "</style>\n",
       "<table border=\"1\" class=\"dataframe\">\n",
       "  <thead>\n",
       "    <tr style=\"text-align: right;\">\n",
       "      <th></th>\n",
       "      <th>Year</th>\n",
       "      <th>Engine Size (L)</th>\n",
       "      <th>Price (USD)</th>\n",
       "    </tr>\n",
       "  </thead>\n",
       "  <tbody>\n",
       "    <tr>\n",
       "      <th>count</th>\n",
       "      <td>10000.000000</td>\n",
       "      <td>10000.000000</td>\n",
       "      <td>10000.000000</td>\n",
       "    </tr>\n",
       "    <tr>\n",
       "      <th>mean</th>\n",
       "      <td>2014.969900</td>\n",
       "      <td>2.992240</td>\n",
       "      <td>47397.584981</td>\n",
       "    </tr>\n",
       "    <tr>\n",
       "      <th>std</th>\n",
       "      <td>3.174303</td>\n",
       "      <td>1.150697</td>\n",
       "      <td>18643.431581</td>\n",
       "    </tr>\n",
       "    <tr>\n",
       "      <th>min</th>\n",
       "      <td>2010.000000</td>\n",
       "      <td>1.000000</td>\n",
       "      <td>15010.250000</td>\n",
       "    </tr>\n",
       "    <tr>\n",
       "      <th>25%</th>\n",
       "      <td>2012.000000</td>\n",
       "      <td>2.000000</td>\n",
       "      <td>31214.385000</td>\n",
       "    </tr>\n",
       "    <tr>\n",
       "      <th>50%</th>\n",
       "      <td>2015.000000</td>\n",
       "      <td>3.000000</td>\n",
       "      <td>47272.105000</td>\n",
       "    </tr>\n",
       "    <tr>\n",
       "      <th>75%</th>\n",
       "      <td>2018.000000</td>\n",
       "      <td>4.000000</td>\n",
       "      <td>63325.882500</td>\n",
       "    </tr>\n",
       "    <tr>\n",
       "      <th>max</th>\n",
       "      <td>2020.000000</td>\n",
       "      <td>5.000000</td>\n",
       "      <td>79998.870000</td>\n",
       "    </tr>\n",
       "  </tbody>\n",
       "</table>\n",
       "</div>"
      ],
      "text/plain": [
       "               Year  Engine Size (L)   Price (USD)\n",
       "count  10000.000000     10000.000000  10000.000000\n",
       "mean    2014.969900         2.992240  47397.584981\n",
       "std        3.174303         1.150697  18643.431581\n",
       "min     2010.000000         1.000000  15010.250000\n",
       "25%     2012.000000         2.000000  31214.385000\n",
       "50%     2015.000000         3.000000  47272.105000\n",
       "75%     2018.000000         4.000000  63325.882500\n",
       "max     2020.000000         5.000000  79998.870000"
      ]
     },
     "execution_count": 6,
     "metadata": {},
     "output_type": "execute_result"
    }
   ],
   "source": [
    "cars.describe()"
   ]
  },
  {
   "cell_type": "code",
   "execution_count": 7,
   "metadata": {
    "colab": {
     "base_uri": "https://localhost:8080/",
     "height": 272
    },
    "id": "iMjTo8ZB2TsK",
    "outputId": "658c0ca5-7c9d-4523-a369-cbdb79f963ce"
   },
   "outputs": [
    {
     "data": {
      "text/plain": [
       "Make               0\n",
       "Model              0\n",
       "Year               0\n",
       "Engine Size (L)    0\n",
       "Fuel Type          0\n",
       "Price (USD)        0\n",
       "dtype: int64"
      ]
     },
     "execution_count": 7,
     "metadata": {},
     "output_type": "execute_result"
    }
   ],
   "source": [
    "cars.isna().sum()"
   ]
  },
  {
   "cell_type": "code",
   "execution_count": 9,
   "metadata": {
    "colab": {
     "base_uri": "https://localhost:8080/"
    },
    "id": "REzt3Pbf26BZ",
    "outputId": "843077b0-09ec-4370-a139-c306219aaa7f"
   },
   "outputs": [
    {
     "data": {
      "text/plain": [
       "0"
      ]
     },
     "execution_count": 9,
     "metadata": {},
     "output_type": "execute_result"
    }
   ],
   "source": [
    "cars.duplicated().sum()"
   ]
  },
  {
   "cell_type": "code",
   "execution_count": 10,
   "metadata": {
    "colab": {
     "base_uri": "https://localhost:8080/",
     "height": 702
    },
    "id": "X37TONrg6-V1",
    "outputId": "bbc064e0-8514-4882-ea54-5a4ddfc168c0"
   },
   "outputs": [
    {
     "data": {
      "text/plain": [
       "<Axes: >"
      ]
     },
     "execution_count": 10,
     "metadata": {},
     "output_type": "execute_result"
    }
   ],
   "source": [
    "plt.figure(figsize=(15 , 10))\n",
    "sns.boxplot(cars)"
   ]
  },
  {
   "cell_type": "code",
   "execution_count": 11,
   "metadata": {
    "colab": {
     "base_uri": "https://localhost:8080/",
     "height": 775
    },
    "id": "VKIjNBYWVgJl",
    "outputId": "89591d50-a8d7-4a77-ee7e-89b3dba84436"
   },
   "outputs": [
    {
     "data": {
      "text/plain": [
       "<seaborn.axisgrid.PairGrid at 0x30363ce90>"
      ]
     },
     "execution_count": 11,
     "metadata": {},
     "output_type": "execute_result"
    }
   ],
   "source": [
    "sns.pairplot(cars)"
   ]
  },
  {
   "cell_type": "code",
   "execution_count": 12,
   "metadata": {
    "colab": {
     "base_uri": "https://localhost:8080/"
    },
    "id": "n8B7asMJbLDD",
    "outputId": "39ac0954-e59d-4f61-eb17-fd19882e2ef8"
   },
   "outputs": [
    {
     "name": "stdout",
     "output_type": "stream",
     "text": [
      "                     Make     Model      Year  Engine Size (L)  Fuel Type  \\\n",
      "Make             1.000000  0.179059 -0.000230        -0.005727  -0.001840   \n",
      "Model            0.179059  1.000000  0.010837        -0.018980   0.004416   \n",
      "Year            -0.000230  0.010837  1.000000        -0.007676  -0.006079   \n",
      "Engine Size (L) -0.005727 -0.018980 -0.007676         1.000000  -0.002237   \n",
      "Fuel Type       -0.001840  0.004416 -0.006079        -0.002237   1.000000   \n",
      "Price (USD)      0.007241 -0.025594 -0.004651         0.002370  -0.010987   \n",
      "\n",
      "                 Price (USD)  \n",
      "Make                0.007241  \n",
      "Model              -0.025594  \n",
      "Year               -0.004651  \n",
      "Engine Size (L)     0.002370  \n",
      "Fuel Type          -0.010987  \n",
      "Price (USD)         1.000000  \n"
     ]
    }
   ],
   "source": [
    "# Encoding non-numeric columns before correlation\n",
    "# Encode non-numeric columns\n",
    "\n",
    "from sklearn.preprocessing import LabelEncoder\n",
    "encoder = LabelEncoder()\n",
    "cars['Make'] = encoder.fit_transform(cars['Make'])  # Encoding for 'Make'\n",
    "cars['Model'] = encoder.fit_transform(cars['Model'])  # Encoding for 'Model'\n",
    "cars['Fuel Type'] = encoder.fit_transform(cars['Fuel Type'])  # Encoding for 'Fuel Type'\n",
    "\n",
    "# Compute correlations\n",
    "correlation_matrix = cars.corr()\n",
    "print(correlation_matrix)"
   ]
  },
  {
   "cell_type": "code",
   "execution_count": 13,
   "metadata": {
    "colab": {
     "base_uri": "https://localhost:8080/",
     "height": 542
    },
    "id": "Owf16156bKvi",
    "outputId": "075338ed-3343-40cc-9524-3f02e9c96dce"
   },
   "outputs": [
    {
     "data": {
      "text/plain": [
       "<Axes: >"
      ]
     },
     "execution_count": 13,
     "metadata": {},
     "output_type": "execute_result"
    }
   ],
   "source": [
    "sns.heatmap(cars.corr(), annot=True, cmap=\"coolwarm\")"
   ]
  },
  {
   "cell_type": "code",
   "execution_count": 14,
   "metadata": {
    "colab": {
     "base_uri": "https://localhost:8080/",
     "height": 206
    },
    "id": "8iML7-Z2X9ns",
    "outputId": "34a39f6b-b251-4a18-9e04-b007eeba8046"
   },
   "outputs": [
    {
     "data": {
      "text/html": [
       "<div>\n",
       "<style scoped>\n",
       "    .dataframe tbody tr th:only-of-type {\n",
       "        vertical-align: middle;\n",
       "    }\n",
       "\n",
       "    .dataframe tbody tr th {\n",
       "        vertical-align: top;\n",
       "    }\n",
       "\n",
       "    .dataframe thead th {\n",
       "        text-align: right;\n",
       "    }\n",
       "</style>\n",
       "<table border=\"1\" class=\"dataframe\">\n",
       "  <thead>\n",
       "    <tr style=\"text-align: right;\">\n",
       "      <th></th>\n",
       "      <th>Make</th>\n",
       "      <th>Model</th>\n",
       "      <th>Year</th>\n",
       "      <th>Engine Size (L)</th>\n",
       "      <th>Fuel Type</th>\n",
       "      <th>Price (USD)</th>\n",
       "      <th>Age</th>\n",
       "    </tr>\n",
       "  </thead>\n",
       "  <tbody>\n",
       "    <tr>\n",
       "      <th>0</th>\n",
       "      <td>9</td>\n",
       "      <td>27</td>\n",
       "      <td>2010</td>\n",
       "      <td>4.2</td>\n",
       "      <td>3</td>\n",
       "      <td>54073.09</td>\n",
       "      <td>10</td>\n",
       "    </tr>\n",
       "    <tr>\n",
       "      <th>1</th>\n",
       "      <td>4</td>\n",
       "      <td>33</td>\n",
       "      <td>2017</td>\n",
       "      <td>4.2</td>\n",
       "      <td>2</td>\n",
       "      <td>44924.91</td>\n",
       "      <td>3</td>\n",
       "    </tr>\n",
       "    <tr>\n",
       "      <th>2</th>\n",
       "      <td>7</td>\n",
       "      <td>30</td>\n",
       "      <td>2011</td>\n",
       "      <td>4.2</td>\n",
       "      <td>2</td>\n",
       "      <td>76963.44</td>\n",
       "      <td>9</td>\n",
       "    </tr>\n",
       "    <tr>\n",
       "      <th>3</th>\n",
       "      <td>8</td>\n",
       "      <td>37</td>\n",
       "      <td>2010</td>\n",
       "      <td>2.4</td>\n",
       "      <td>3</td>\n",
       "      <td>30871.25</td>\n",
       "      <td>10</td>\n",
       "    </tr>\n",
       "    <tr>\n",
       "      <th>4</th>\n",
       "      <td>7</td>\n",
       "      <td>7</td>\n",
       "      <td>2010</td>\n",
       "      <td>3.6</td>\n",
       "      <td>3</td>\n",
       "      <td>72037.65</td>\n",
       "      <td>10</td>\n",
       "    </tr>\n",
       "  </tbody>\n",
       "</table>\n",
       "</div>"
      ],
      "text/plain": [
       "   Make  Model  Year  Engine Size (L)  Fuel Type  Price (USD)  Age\n",
       "0     9     27  2010              4.2          3     54073.09   10\n",
       "1     4     33  2017              4.2          2     44924.91    3\n",
       "2     7     30  2011              4.2          2     76963.44    9\n",
       "3     8     37  2010              2.4          3     30871.25   10\n",
       "4     7      7  2010              3.6          3     72037.65   10"
      ]
     },
     "execution_count": 14,
     "metadata": {},
     "output_type": "execute_result"
    }
   ],
   "source": [
    "# Feature Engineering\n",
    "\n",
    "cars['Age'] = 2020 - cars['Year']\n",
    "\n",
    "cars.head()"
   ]
  },
  {
   "cell_type": "code",
   "execution_count": 15,
   "metadata": {
    "colab": {
     "base_uri": "https://localhost:8080/",
     "height": 269
    },
    "id": "dLLBFG7e6Guw",
    "outputId": "8b222133-7b58-4752-b766-1c688bceeb65"
   },
   "outputs": [
    {
     "data": {
      "text/html": [
       "<div>\n",
       "<style scoped>\n",
       "    .dataframe tbody tr th:only-of-type {\n",
       "        vertical-align: middle;\n",
       "    }\n",
       "\n",
       "    .dataframe tbody tr th {\n",
       "        vertical-align: top;\n",
       "    }\n",
       "\n",
       "    .dataframe thead th {\n",
       "        text-align: right;\n",
       "    }\n",
       "</style>\n",
       "<table border=\"1\" class=\"dataframe\">\n",
       "  <thead>\n",
       "    <tr style=\"text-align: right;\">\n",
       "      <th></th>\n",
       "      <th>Make</th>\n",
       "      <th>Model</th>\n",
       "      <th>Year</th>\n",
       "      <th>Engine Size (L)</th>\n",
       "      <th>Fuel Type</th>\n",
       "      <th>Price (USD)</th>\n",
       "      <th>Age</th>\n",
       "    </tr>\n",
       "  </thead>\n",
       "  <tbody>\n",
       "    <tr>\n",
       "      <th>Make</th>\n",
       "      <td>1.000000</td>\n",
       "      <td>0.179059</td>\n",
       "      <td>-0.000230</td>\n",
       "      <td>-0.005727</td>\n",
       "      <td>-0.001840</td>\n",
       "      <td>0.007241</td>\n",
       "      <td>0.000230</td>\n",
       "    </tr>\n",
       "    <tr>\n",
       "      <th>Model</th>\n",
       "      <td>0.179059</td>\n",
       "      <td>1.000000</td>\n",
       "      <td>0.010837</td>\n",
       "      <td>-0.018980</td>\n",
       "      <td>0.004416</td>\n",
       "      <td>-0.025594</td>\n",
       "      <td>-0.010837</td>\n",
       "    </tr>\n",
       "    <tr>\n",
       "      <th>Year</th>\n",
       "      <td>-0.000230</td>\n",
       "      <td>0.010837</td>\n",
       "      <td>1.000000</td>\n",
       "      <td>-0.007676</td>\n",
       "      <td>-0.006079</td>\n",
       "      <td>-0.004651</td>\n",
       "      <td>-1.000000</td>\n",
       "    </tr>\n",
       "    <tr>\n",
       "      <th>Engine Size (L)</th>\n",
       "      <td>-0.005727</td>\n",
       "      <td>-0.018980</td>\n",
       "      <td>-0.007676</td>\n",
       "      <td>1.000000</td>\n",
       "      <td>-0.002237</td>\n",
       "      <td>0.002370</td>\n",
       "      <td>0.007676</td>\n",
       "    </tr>\n",
       "    <tr>\n",
       "      <th>Fuel Type</th>\n",
       "      <td>-0.001840</td>\n",
       "      <td>0.004416</td>\n",
       "      <td>-0.006079</td>\n",
       "      <td>-0.002237</td>\n",
       "      <td>1.000000</td>\n",
       "      <td>-0.010987</td>\n",
       "      <td>0.006079</td>\n",
       "    </tr>\n",
       "    <tr>\n",
       "      <th>Price (USD)</th>\n",
       "      <td>0.007241</td>\n",
       "      <td>-0.025594</td>\n",
       "      <td>-0.004651</td>\n",
       "      <td>0.002370</td>\n",
       "      <td>-0.010987</td>\n",
       "      <td>1.000000</td>\n",
       "      <td>0.004651</td>\n",
       "    </tr>\n",
       "    <tr>\n",
       "      <th>Age</th>\n",
       "      <td>0.000230</td>\n",
       "      <td>-0.010837</td>\n",
       "      <td>-1.000000</td>\n",
       "      <td>0.007676</td>\n",
       "      <td>0.006079</td>\n",
       "      <td>0.004651</td>\n",
       "      <td>1.000000</td>\n",
       "    </tr>\n",
       "  </tbody>\n",
       "</table>\n",
       "</div>"
      ],
      "text/plain": [
       "                     Make     Model      Year  Engine Size (L)  Fuel Type  \\\n",
       "Make             1.000000  0.179059 -0.000230        -0.005727  -0.001840   \n",
       "Model            0.179059  1.000000  0.010837        -0.018980   0.004416   \n",
       "Year            -0.000230  0.010837  1.000000        -0.007676  -0.006079   \n",
       "Engine Size (L) -0.005727 -0.018980 -0.007676         1.000000  -0.002237   \n",
       "Fuel Type       -0.001840  0.004416 -0.006079        -0.002237   1.000000   \n",
       "Price (USD)      0.007241 -0.025594 -0.004651         0.002370  -0.010987   \n",
       "Age              0.000230 -0.010837 -1.000000         0.007676   0.006079   \n",
       "\n",
       "                 Price (USD)       Age  \n",
       "Make                0.007241  0.000230  \n",
       "Model              -0.025594 -0.010837  \n",
       "Year               -0.004651 -1.000000  \n",
       "Engine Size (L)     0.002370  0.007676  \n",
       "Fuel Type          -0.010987  0.006079  \n",
       "Price (USD)         1.000000  0.004651  \n",
       "Age                 0.004651  1.000000  "
      ]
     },
     "execution_count": 15,
     "metadata": {},
     "output_type": "execute_result"
    }
   ],
   "source": [
    "cars.corr()"
   ]
  },
  {
   "cell_type": "code",
   "execution_count": 16,
   "metadata": {
    "colab": {
     "base_uri": "https://localhost:8080/",
     "height": 542
    },
    "id": "Cmi6SryAYIeL",
    "outputId": "2c5de25b-e679-4332-f7bf-07def89391ca"
   },
   "outputs": [
    {
     "data": {
      "text/plain": [
       "<Axes: >"
      ]
     },
     "execution_count": 16,
     "metadata": {},
     "output_type": "execute_result"
    }
   ],
   "source": [
    "sns.heatmap(cars.corr(), annot=True, cmap=\"coolwarm\")"
   ]
  },
  {
   "cell_type": "code",
   "execution_count": 17,
   "metadata": {
    "id": "rrPnsAgiYM5U"
   },
   "outputs": [],
   "source": [
    "from re import X\n",
    "from sklearn.preprocessing import StandardScaler\n",
    "\n",
    "# Select features and target variable\n",
    "\n",
    "X = cars[['Year', 'Engine Size (L)', 'Age']]\n",
    "y = cars['Price (USD)']\n",
    "\n",
    "# Split the data into training and testing sets\n",
    "\n",
    "X_train, X_test, y_train, y_test = train_test_split(X, y, test_size=0.2, random_state=42)\n",
    "\n",
    "# Standardize the features\n",
    "\n",
    "car_scaler = StandardScaler()\n",
    "X_train_scaled = car_scaler.fit_transform(X_train)\n",
    "X_test_scaled = car_scaler.transform(X_test)"
   ]
  },
  {
   "cell_type": "code",
   "execution_count": 18,
   "metadata": {
    "colab": {
     "base_uri": "https://localhost:8080/"
    },
    "id": "ZO_xRhmdedI4",
    "outputId": "b743254e-976f-4015-9d3d-a6f407bcb0c7"
   },
   "outputs": [
    {
     "name": "stdout",
     "output_type": "stream",
     "text": [
      "Mean Squared Error: 344949268.7327494\n",
      "R-squared: -0.00011759547986112118\n",
      "Coefficients: [-3.62122952e+15  1.15500000e+02 -3.62122952e+15]\n",
      "Intercept: 47380.70118507039\n"
     ]
    }
   ],
   "source": [
    "# Initialize the model\n",
    "lr = LinearRegression()  # Use LinearRegression\n",
    "dtr = DecisionTreeRegressor()\n",
    "\n",
    "# Train the model\n",
    "lr.fit(X_train_scaled, y_train)\n",
    "\n",
    "# Make predictions\n",
    "y_pred = lr.predict(X_test_scaled)\n",
    "\n",
    "# Evaluate the model using regression metrics\n",
    "from sklearn.metrics import mean_squared_error, r2_score\n",
    "\n",
    "mse = mean_squared_error(y_test, y_pred)\n",
    "r2 = r2_score(y_test, y_pred)\n",
    "\n",
    "print(f\"Mean Squared Error: {mse}\")\n",
    "print(f\"R-squared: {r2}\")\n",
    "print(f\"Coefficients: {lr.coef_}\")\n",
    "print(f\"Intercept: {lr.intercept_}\")"
   ]
  },
  {
   "cell_type": "code",
   "execution_count": 19,
   "metadata": {
    "colab": {
     "base_uri": "https://localhost:8080/",
     "height": 424
    },
    "id": "99Ath6RDUMyQ",
    "outputId": "aff76f54-f685-436f-cde7-d80c4a9b2de6"
   },
   "outputs": [
    {
     "data": {
      "text/html": [
       "<div>\n",
       "<style scoped>\n",
       "    .dataframe tbody tr th:only-of-type {\n",
       "        vertical-align: middle;\n",
       "    }\n",
       "\n",
       "    .dataframe tbody tr th {\n",
       "        vertical-align: top;\n",
       "    }\n",
       "\n",
       "    .dataframe thead th {\n",
       "        text-align: right;\n",
       "    }\n",
       "</style>\n",
       "<table border=\"1\" class=\"dataframe\">\n",
       "  <thead>\n",
       "    <tr style=\"text-align: right;\">\n",
       "      <th></th>\n",
       "      <th>Actual</th>\n",
       "      <th>Predicted</th>\n",
       "    </tr>\n",
       "  </thead>\n",
       "  <tbody>\n",
       "    <tr>\n",
       "      <th>6252</th>\n",
       "      <td>31048.59</td>\n",
       "      <td>47475.064305</td>\n",
       "    </tr>\n",
       "    <tr>\n",
       "      <th>4684</th>\n",
       "      <td>60267.40</td>\n",
       "      <td>47444.961830</td>\n",
       "    </tr>\n",
       "    <tr>\n",
       "      <th>1731</th>\n",
       "      <td>75805.42</td>\n",
       "      <td>47343.474205</td>\n",
       "    </tr>\n",
       "    <tr>\n",
       "      <th>4742</th>\n",
       "      <td>43526.75</td>\n",
       "      <td>47325.354843</td>\n",
       "    </tr>\n",
       "    <tr>\n",
       "      <th>4521</th>\n",
       "      <td>33572.46</td>\n",
       "      <td>47285.354843</td>\n",
       "    </tr>\n",
       "    <tr>\n",
       "      <th>...</th>\n",
       "      <td>...</td>\n",
       "      <td>...</td>\n",
       "    </tr>\n",
       "    <tr>\n",
       "      <th>6412</th>\n",
       "      <td>39895.24</td>\n",
       "      <td>47603.581193</td>\n",
       "    </tr>\n",
       "    <tr>\n",
       "      <th>8285</th>\n",
       "      <td>31817.53</td>\n",
       "      <td>47094.354843</td>\n",
       "    </tr>\n",
       "    <tr>\n",
       "      <th>7853</th>\n",
       "      <td>42907.30</td>\n",
       "      <td>47375.354843</td>\n",
       "    </tr>\n",
       "    <tr>\n",
       "      <th>1095</th>\n",
       "      <td>75865.96</td>\n",
       "      <td>47583.183668</td>\n",
       "    </tr>\n",
       "    <tr>\n",
       "      <th>6929</th>\n",
       "      <td>29383.32</td>\n",
       "      <td>47324.564305</td>\n",
       "    </tr>\n",
       "  </tbody>\n",
       "</table>\n",
       "<p>2000 rows × 2 columns</p>\n",
       "</div>"
      ],
      "text/plain": [
       "        Actual     Predicted\n",
       "6252  31048.59  47475.064305\n",
       "4684  60267.40  47444.961830\n",
       "1731  75805.42  47343.474205\n",
       "4742  43526.75  47325.354843\n",
       "4521  33572.46  47285.354843\n",
       "...        ...           ...\n",
       "6412  39895.24  47603.581193\n",
       "8285  31817.53  47094.354843\n",
       "7853  42907.30  47375.354843\n",
       "1095  75865.96  47583.183668\n",
       "6929  29383.32  47324.564305\n",
       "\n",
       "[2000 rows x 2 columns]"
      ]
     },
     "execution_count": 19,
     "metadata": {},
     "output_type": "execute_result"
    }
   ],
   "source": [
    "lr.predict(X_test_scaled)\n",
    "pd.DataFrame({\"Actual\": y_test, \"Predicted\": lr.predict(X_test_scaled)})"
   ]
  },
  {
   "cell_type": "code",
   "execution_count": 20,
   "metadata": {
    "colab": {
     "base_uri": "https://localhost:8080/"
    },
    "id": "UIy8o3CBf4QE",
    "outputId": "6a3fd43d-913a-4d8b-e57c-b88cd6a029a6"
   },
   "outputs": [
    {
     "name": "stdout",
     "output_type": "stream",
     "text": [
      "Mean Squared Error: 371841327.7767196\n",
      "R-squared: -0.07808622410564059\n"
     ]
    }
   ],
   "source": [
    "# Train the model\n",
    "dtr.fit(X_train_scaled, y_train)\n",
    "\n",
    "# Make predictions\n",
    "y_pred = dtr.predict(X_test_scaled)\n",
    "from sklearn.metrics import mean_squared_error, r2_score\n",
    "\n",
    "# Evaluate the model using regression metrics\n",
    "mse = mean_squared_error(y_test, y_pred)\n",
    "r2 = r2_score(y_test, y_pred)\n",
    "\n",
    "print(f\"Mean Squared Error: {mse}\")\n",
    "print(f\"R-squared: {r2}\")"
   ]
  },
  {
   "cell_type": "code",
   "execution_count": 21,
   "metadata": {
    "colab": {
     "base_uri": "https://localhost:8080/"
    },
    "id": "DA-OqdfbyTHG",
    "outputId": "de71a664-51cd-472a-d8ee-73cc7ad15395"
   },
   "outputs": [
    {
     "name": "stdout",
     "output_type": "stream",
     "text": [
      "Mean Squared Error: 372645206.2863517\n",
      "R-squared: -0.08041692347214369\n"
     ]
    }
   ],
   "source": [
    "# Train the model\n",
    "rfreg = RandomForestRegressor()\n",
    "rfreg.fit(X_train_scaled, y_train)\n",
    "\n",
    "# Make predictions\n",
    "y_pred = rfreg.predict(X_test_scaled)\n",
    "from sklearn.metrics import mean_squared_error, r2_score\n",
    "\n",
    "# Evaluate the model using regression metrics\n",
    "mse = mean_squared_error(y_test, y_pred)\n",
    "r2 = r2_score(y_test, y_pred)\n",
    "\n",
    "print(f\"Mean Squared Error: {mse}\")\n",
    "print(f\"R-squared: {r2}\")"
   ]
  },
  {
   "cell_type": "code",
   "execution_count": 22,
   "metadata": {
    "colab": {
     "base_uri": "https://localhost:8080/"
    },
    "id": "nwfd1DWgf3ys",
    "outputId": "5dc2d362-f161-40ee-b2e2-3df1ab8b628a"
   },
   "outputs": [
    {
     "name": "stdout",
     "output_type": "stream",
     "text": [
      "Best Hyperparameters: {'max_depth': 3, 'min_samples_leaf': 1, 'min_samples_split': 2}\n",
      "Best MSE: 349471765.2333957\n"
     ]
    }
   ],
   "source": [
    "from sklearn.model_selection import GridSearchCV\n",
    "\n",
    "# Define hyperparameters for tuning\n",
    "param_grid = {\n",
    "    'max_depth': [3, 5, 10, None],\n",
    "    'min_samples_split': [2, 5, 10],\n",
    "    'min_samples_leaf': [1, 2, 4]\n",
    "}\n",
    "\n",
    "# Initialize model\n",
    "dt_model = DecisionTreeRegressor(random_state=42)\n",
    "\n",
    "# Perform Grid Search\n",
    "grid_search = GridSearchCV(estimator=dt_model, param_grid=param_grid, cv=5, scoring='neg_mean_squared_error')\n",
    "grid_search.fit(X_train, y_train)\n",
    "\n",
    "# Best parameters and evaluation\n",
    "print(\"Best Hyperparameters:\", grid_search.best_params_)\n",
    "print(\"Best MSE:\", -grid_search.best_score_)"
   ]
  },
  {
   "cell_type": "code",
   "execution_count": 23,
   "metadata": {
    "colab": {
     "base_uri": "https://localhost:8080/"
    },
    "id": "poBcqNhNzRd1",
    "outputId": "fe017f37-b29b-495b-cf52-a3f35fe16640"
   },
   "outputs": [
    {
     "name": "stdout",
     "output_type": "stream",
     "text": [
      "Test Set Mean Squared Error (MSE): 353092329.4957923\n",
      "Test Set R-squared (R²): -0.006470953227539766\n"
     ]
    }
   ],
   "source": [
    "# Evaluate perfomance\n",
    "\n",
    "# 1. Split the data into training and test sets\n",
    "X_train, X_test, y_train, y_test = train_test_split(X, y, test_size=0.5, random_state=20)\n",
    "\n",
    "# 2. Train the model on the training data\n",
    "best_model = DecisionTreeRegressor(max_depth=3, min_samples_leaf=1, min_samples_split=2)\n",
    "best_model.fit(X_train, y_train)\n",
    "\n",
    "# 3. Make predictions on the test set\n",
    "y_pred = best_model.predict(X_test)\n",
    "\n",
    "# 4. Evaluate performance\n",
    "mse = mean_squared_error(y_test, y_pred)\n",
    "r2 = r2_score(y_test, y_pred)\n",
    "\n",
    "print(f\"Test Set Mean Squared Error (MSE): {mse}\")\n",
    "print(f\"Test Set R-squared (R²): {r2}\")"
   ]
  },
  {
   "cell_type": "code",
   "execution_count": 24,
   "metadata": {
    "colab": {
     "base_uri": "https://localhost:8080/"
    },
    "id": "hnCN7qxrgyJB",
    "outputId": "9812829f-662e-450f-ad8d-361343709a4d"
   },
   "outputs": [
    {
     "name": "stdout",
     "output_type": "stream",
     "text": [
      "Collecting scikeras\n",
      "  Downloading scikeras-0.13.0-py3-none-any.whl.metadata (3.1 kB)\n",
      "Collecting keras>=3.2.0 (from scikeras)\n",
      "  Downloading keras-3.7.0-py3-none-any.whl.metadata (5.8 kB)\n",
      "Requirement already satisfied: scikit-learn>=1.4.2 in ./conda/lib/python3.12/site-packages (from scikeras) (1.5.1)\n",
      "Collecting absl-py (from keras>=3.2.0->scikeras)\n",
      "  Downloading absl_py-2.1.0-py3-none-any.whl.metadata (2.3 kB)\n",
      "Requirement already satisfied: numpy in ./conda/lib/python3.12/site-packages (from keras>=3.2.0->scikeras) (1.26.4)\n",
      "Requirement already satisfied: rich in ./conda/lib/python3.12/site-packages (from keras>=3.2.0->scikeras) (13.7.1)\n",
      "Collecting namex (from keras>=3.2.0->scikeras)\n",
      "  Downloading namex-0.0.8-py3-none-any.whl.metadata (246 bytes)\n",
      "Requirement already satisfied: h5py in ./conda/lib/python3.12/site-packages (from keras>=3.2.0->scikeras) (3.11.0)\n",
      "Collecting optree (from keras>=3.2.0->scikeras)\n",
      "  Downloading optree-0.13.1-cp312-cp312-macosx_11_0_arm64.whl.metadata (47 kB)\n",
      "Collecting ml-dtypes (from keras>=3.2.0->scikeras)\n",
      "  Downloading ml_dtypes-0.5.0-cp312-cp312-macosx_10_9_universal2.whl.metadata (21 kB)\n",
      "Requirement already satisfied: packaging in ./conda/lib/python3.12/site-packages (from keras>=3.2.0->scikeras) (24.1)\n",
      "Requirement already satisfied: scipy>=1.6.0 in ./conda/lib/python3.12/site-packages (from scikit-learn>=1.4.2->scikeras) (1.13.1)\n",
      "Requirement already satisfied: joblib>=1.2.0 in ./conda/lib/python3.12/site-packages (from scikit-learn>=1.4.2->scikeras) (1.4.2)\n",
      "Requirement already satisfied: threadpoolctl>=3.1.0 in ./conda/lib/python3.12/site-packages (from scikit-learn>=1.4.2->scikeras) (3.5.0)\n",
      "Requirement already satisfied: typing-extensions>=4.5.0 in ./conda/lib/python3.12/site-packages (from optree->keras>=3.2.0->scikeras) (4.11.0)\n",
      "Requirement already satisfied: markdown-it-py>=2.2.0 in ./conda/lib/python3.12/site-packages (from rich->keras>=3.2.0->scikeras) (2.2.0)\n",
      "Requirement already satisfied: pygments<3.0.0,>=2.13.0 in ./conda/lib/python3.12/site-packages (from rich->keras>=3.2.0->scikeras) (2.15.1)\n",
      "Requirement already satisfied: mdurl~=0.1 in ./conda/lib/python3.12/site-packages (from markdown-it-py>=2.2.0->rich->keras>=3.2.0->scikeras) (0.1.0)\n",
      "Downloading scikeras-0.13.0-py3-none-any.whl (26 kB)\n",
      "Downloading keras-3.7.0-py3-none-any.whl (1.2 MB)\n",
      "\u001b[2K   \u001b[90m━━━━━━━━━━━━━━━━━━━━━━━━━━━━━━━━━━━━━━━━\u001b[0m \u001b[32m1.2/1.2 MB\u001b[0m \u001b[31m18.3 MB/s\u001b[0m eta \u001b[36m0:00:00\u001b[0m\n",
      "\u001b[?25hDownloading absl_py-2.1.0-py3-none-any.whl (133 kB)\n",
      "Downloading ml_dtypes-0.5.0-cp312-cp312-macosx_10_9_universal2.whl (750 kB)\n",
      "\u001b[2K   \u001b[90m━━━━━━━━━━━━━━━━━━━━━━━━━━━━━━━━━━━━━━━━\u001b[0m \u001b[32m750.2/750.2 kB\u001b[0m \u001b[31m18.9 MB/s\u001b[0m eta \u001b[36m0:00:00\u001b[0m\n",
      "\u001b[?25hDownloading namex-0.0.8-py3-none-any.whl (5.8 kB)\n",
      "Downloading optree-0.13.1-cp312-cp312-macosx_11_0_arm64.whl (322 kB)\n",
      "Installing collected packages: namex, optree, ml-dtypes, absl-py, keras, scikeras\n",
      "Successfully installed absl-py-2.1.0 keras-3.7.0 ml-dtypes-0.5.0 namex-0.0.8 optree-0.13.1 scikeras-0.13.0\n"
     ]
    }
   ],
   "source": [
    "!pip install scikeras\n"
   ]
  },
  {
   "cell_type": "code",
   "execution_count": 25,
   "metadata": {
    "colab": {
     "base_uri": "https://localhost:8080/"
    },
    "id": "XHCvcXxGw1qI",
    "outputId": "35b6056b-758e-485f-fe18-caf35299dbbd"
   },
   "outputs": [
    {
     "name": "stdout",
     "output_type": "stream",
     "text": [
      "Model saved to decision_tree_model.pkl\n"
     ]
    }
   ],
   "source": [
    "import pickle\n",
    "\n",
    "# Save the trained model\n",
    "with open('decision_tree_model.pkl', 'wb') as file:\n",
    "    pickle.dump(grid_search.best_estimator_, file)\n",
    "\n",
    "print(\"Model saved to decision_tree_model.pkl\")"
   ]
  },
  {
   "cell_type": "code",
   "execution_count": 26,
   "metadata": {
    "id": "YMsXIHwcxCkq"
   },
   "outputs": [],
   "source": [
    "pickle.dump(car_scaler, open(\"car_scaler.pkl\", \"wb\"))"
   ]
  },
  {
   "cell_type": "code",
   "execution_count": null,
   "metadata": {
    "id": "MuXo7nZ6zepD"
   },
   "outputs": [],
   "source": []
  }
 ],
 "metadata": {
  "colab": {
   "provenance": []
  },
  "kernelspec": {
   "display_name": "base",
   "language": "python",
   "name": "python3"
  },
  "language_info": {
   "codemirror_mode": {
    "name": "ipython",
    "version": 3
   },
   "file_extension": ".py",
   "mimetype": "text/x-python",
   "name": "python",
   "nbconvert_exporter": "python",
   "pygments_lexer": "ipython3",
   "version": "3.12.7"
  }
 },
 "nbformat": 4,
 "nbformat_minor": 0
}
